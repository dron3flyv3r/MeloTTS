{
 "cells": [
  {
   "cell_type": "markdown",
   "metadata": {},
   "source": [
    "**This was trained using WSL Ubuntu 22.04.3 LTS**"
   ]
  },
  {
   "cell_type": "code",
   "execution_count": null,
   "metadata": {},
   "outputs": [],
   "source": [
    "%git clone https://github.com/myshell-ai/MeloTTS.git\n",
    "%pip install -e MeloTTS/\n",
    "%pip install beautifulsoup4\n",
    "import sys\n",
    "sys.path.append(\"MeloTTS\")"
   ]
  },
  {
   "cell_type": "code",
   "execution_count": 1,
   "metadata": {},
   "outputs": [],
   "source": [
    "## GLaDOS ##\n",
    "blocklist = [\"potato\", \"_ding_\", \"00_part1_entry-6\", \"_escape_\"]\n",
    "sources = [\"https://theportalwiki.com/wiki/GLaDOS_voice_lines_(Portal)\", \"https://theportalwiki.com/wiki/GLaDOS_voice_lines_(Portal_2)\", \"https://theportalwiki.com/wiki/GLaDOS_voice_lines_(Other)\"]\n",
    "base_dir=\"glados_out\"\n",
    "\n",
    "## Wheatley ##\n",
    "# blocklist = [\"jailbreakdooropens08\", \"jailbreakdooropens05\", \"jailbreakdooropens07\", \"jailbreakdooropens01\", \"sp_a1_intro7_pickupnags07\", \"sp_a1_wakeup_panic01\", \"sp_a1_wakeup_hacking09\", \"sp_a1_wakeup_hacking12\", \"sp_a1_wakeup_hacking10\", \"sp_a1_wakeup_hacking12\", \"sp_trust_flingalt08\", \"nanobotow03\", \"sp_a2_wheatley_ows\", \"bw_a4_2nd_first_test_solve_nags\", \"bw_sp_a2_core_actually05\", \"bw_sp_a2_core_actually01\", \"bw_sp_a2_core_potato04\", \"bw_sp_a4_tb_trust_drop_solve05\", \"bw_sp_a4_tb_trust_drop_impatient02\", \"bw_sp_a4_tb_wall_button_solve09\", \"bw_sp_a4_tb_polarity_solve04\", \"bw_a4_finale04_whitegel_break01\", \"bw_finale04_portal_opens_short05\", \"bw_finale04_portal_opens_short06\", \"bw_finale04_portal_opens_short07\", \"bw_finale04_portal_opens_short08\", \"bw_a4_finale04_wakeupa09\", \"bw_finale04_portal_opens17\", \"bw_finale04_portal_opens15\", \"bw_finale04_portal_opens13\", \"bw_finale04_portal_opens03\", \"openingwallhitone01\", \"demospherepowerup02\"]\n",
    "# sources = [\"https://theportalwiki.com/wiki/wheatley_voice_lines\"]\n",
    "# base_dir=\"wheatley_out\""
   ]
  },
  {
   "cell_type": "code",
   "execution_count": null,
   "metadata": {},
   "outputs": [],
   "source": [
    "import requests\n",
    "from multiprocessing import cpu_count\n",
    "from multiprocessing.pool import ThreadPool\n",
    "import shutil\n",
    "import os\n",
    "from bs4 import BeautifulSoup\n",
    "import soundfile as sf\n",
    "import string\n",
    "import json\n",
    "import re\n",
    "import num2words\n",
    "from tqdm.notebook import tqdm\n",
    "\n",
    "class bcolors:\n",
    "    HEADER = '\\033[95m'\n",
    "    OKBLUE = '\\033[94m'\n",
    "    OKCYAN = '\\033[96m'\n",
    "    OKGREEN = '\\033[92m'\n",
    "    WARNING = '\\033[93m'\n",
    "    FAIL = '\\033[91m'\n",
    "    ENDC = '\\033[0m'\n",
    "    BOLD = '\\033[1m'\n",
    "    UNDERLINE = '\\033[4m'\n",
    "\n",
    "audio_dir = 'audio'\n",
    "download_threads = 64\n",
    "\n",
    "# temp_path = \"temp_audio\"\n",
    "# sampling_rate = 22050\n",
    "   \n",
    "def prep(args, overwrite=True):\n",
    "    already_exists = os.path.exists(audio_dir)\n",
    "    \n",
    "    if already_exists and not overwrite:\n",
    "        print(\"Data already downloaded\")\n",
    "        return\n",
    "    \n",
    "    if already_exists:\n",
    "        print(\"Deleting previously downloaded audio\")\n",
    "        shutil.rmtree(audio_dir)\n",
    "        \n",
    "        if os.path.exists(temp_path):\n",
    "            shutil.rmtree(temp_path)\n",
    "    \n",
    "    os.mkdir(audio_dir)\n",
    "    download_parallel(args)\n",
    "\n",
    "def remove_punctuation(str):\n",
    "    return str.translate(str.maketrans('', '', string.punctuation))\n",
    "    \n",
    "def audio_duration(fn):\n",
    "    f = sf.SoundFile(fn)\n",
    "    return f.frames / f.samplerate\n",
    "\n",
    "def download_file(args):\n",
    "    url, filename = args[0], args[1]\n",
    "\n",
    "    try:\n",
    "        response = requests.get(url, allow_redirects=False)\n",
    "\n",
    "        open(os.path.join(audio_dir, filename), \"wb\").write(response.content)\n",
    "        return filename, True\n",
    "    except:\n",
    "        return filename, False\n",
    "\n",
    "def download_parallel(args):\n",
    "    results = ThreadPool(download_threads).imap_unordered(download_file, args)\n",
    "    for result in results:\n",
    "        if result[1]:\n",
    "            print(bcolors.OKGREEN + \"[\" + u'\\u2713' + \"] \" + bcolors.ENDC + result[0])\n",
    "        else:\n",
    "            print(bcolors.FAIL + \"[\" + u'\\u2715' + \"] \" + bcolors.ENDC + result[0])\n",
    "\n",
    "def main():\n",
    "    urls = []\n",
    "    filenames = []\n",
    "    texts = []\n",
    "\n",
    "    for s in sources:\n",
    "        r = requests.get(s, allow_redirects=False)\n",
    "    \n",
    "        soup = BeautifulSoup(r.text.encode('utf-8').decode('ascii', 'ignore'), 'html.parser')\n",
    "        for link_item in soup.find_all('a'):\n",
    "            url = link_item.get(\"href\", None)\n",
    "            if url:\n",
    "                if \"https:\" in url and \".wav\" in url:\n",
    "                    list_item = link_item.find_parent(\"li\")\n",
    "                    ital_item = list_item.find_all('i')\n",
    "                    if ital_item:\n",
    "                        text = ital_item[0].text\n",
    "                        text = text.replace('\"', '')\n",
    "                        filename = url[url.rindex(\"/\")+1:]\n",
    "    \n",
    "                        if \"[\" not in text and \"]\" not in text and \"$\" not in text:\n",
    "                            if url not in urls:\n",
    "                                for s in blocklist:\n",
    "                                    if s in url:\n",
    "                                        break\n",
    "                                else:\n",
    "                                    urls.append(url)\n",
    "                                    filenames.append(filename)\n",
    "                                    text = text.replace('*', '')\n",
    "                                    texts.append(text)\n",
    "\n",
    "    print(\"Found \" + str(len(urls)) + \" urls\")\n",
    "\n",
    "    args = zip(urls, filenames)\n",
    "\n",
    "    prep(args)\n",
    "    \n",
    "    \n",
    "    total_audio_time = 0\n",
    "    outFile=open(os.path.join(audio_dir, \"manifest.json\"), 'w')\n",
    "    print(\"Writing manifest file\")\n",
    "    for i in range(len(urls)):\n",
    "        item = {}\n",
    "        text = texts[i]\n",
    "        filename = filenames[i]\n",
    "        item[\"audio_filepath\"] = os.path.join(audio_dir, filename)\n",
    "        #item[\"text_normalized\"] = re.sub(r\"(\\d+)\", lambda x: num2words.num2words(int(x.group(0))), text)\n",
    "        item[\"text\"] = re.sub(r\"(\\d+)\", lambda x: num2words.num2words(int(x.group(0))), text).lower()\n",
    "        try:\n",
    "            duration = audio_duration(os.path.join(audio_dir, filename))\n",
    "        except Exception as e:\n",
    "            print(\"Error getting duration for \" + filename)\n",
    "            continue\n",
    "        item[\"duration\"] = duration\n",
    "        total_audio_time = total_audio_time + item[\"duration\"]\n",
    "        outFile.write(json.dumps(item, ensure_ascii=True, sort_keys=True) + \"\\n\")\n",
    " \n",
    "    outFile.close()\n",
    "    print(\"\\n\" + str(total_audio_time/60.0) + \" min\\n\")\n",
    "main()"
   ]
  },
  {
   "cell_type": "code",
   "execution_count": null,
   "metadata": {},
   "outputs": [],
   "source": [
    "import nltk\n",
    "nltk.download('averaged_perceptron_tagger_eng')"
   ]
  },
  {
   "cell_type": "code",
   "execution_count": null,
   "metadata": {},
   "outputs": [],
   "source": [
    "speaker_name = \"gladosV2\"\n",
    "language_code = \"EN\"\n",
    "\n",
    "manifest_file = \"normalized_audio/manifest.json\"\n",
    "\n",
    "file_data = []\n",
    "with open(manifest_file, 'r') as file:\n",
    "    for line in file:\n",
    "        file_data.append(json.loads(line))\n",
    "\n",
    "print(\"Writing metadata.list...\")\n",
    "os.makedirs(base_dir, exist_ok=True)\n",
    "with open(os.path.join(base_dir, \"metadata.list\"), 'w') as file:\n",
    "    for data in file_data:\n",
    "        file.write(f\"{data['audio_filepath']}|{speaker_name}|{language_code}|{data['text']}\\n\")"
   ]
  },
  {
   "cell_type": "code",
   "execution_count": null,
   "metadata": {},
   "outputs": [],
   "source": [
    "import shutil\n",
    "\n",
    "shutil.copy(\"MeloTTS/melo/configs/config.json\", f\"{base_dir}/config.json\")"
   ]
  },
  {
   "cell_type": "code",
   "execution_count": null,
   "metadata": {},
   "outputs": [],
   "source": [
    "!python MeloTTS/melo/preprocess_text.py --metadata {base_dir}/metadata.list --config_path {base_dir}/config.json"
   ]
  },
  {
   "cell_type": "code",
   "execution_count": null,
   "metadata": {},
   "outputs": [],
   "source": [
    "!bash MeloTTS/melo/train.sh {base_dir}/config.json 1"
   ]
  },
  {
   "cell_type": "code",
   "execution_count": null,
   "metadata": {},
   "outputs": [],
   "source": [
    "!python MeloTTS/melo/infer.py --text \"This is version 2. Hello and, again, welcome to the Aperture Science computer-aided enrichment center. You will be testing with a partner. Please wave to your partner. And say 'hello partner'\" -m \"logs/glados_out/G_13000.pth\" -o \"glados_out\""
   ]
  },
  {
   "cell_type": "code",
   "execution_count": null,
   "metadata": {},
   "outputs": [],
   "source": [
    "import pygame\n",
    "pygame.mixer.init()\n",
    "\n",
    "def play_audio(file):\n",
    "    pygame.mixer.music.load(file)\n",
    "    pygame.mixer.music.play()\n",
    "    while pygame.mixer.music.get_busy():\n",
    "        pygame.time.Clock().tick(10) # check every 10ms"
   ]
  },
  {
   "cell_type": "code",
   "execution_count": null,
   "metadata": {},
   "outputs": [],
   "source": [
    "from melo.api import TTS\n",
    "\n",
    "\n",
    "model = TTS(language=\"EN\", config_path=\"glados_out/config.json\", ckpt_path=\"logs/glados_out/G_13000.pth\")\n",
    "\n",
    "def tts_file(text: str, path: str):\n",
    "    model.tts_to_file(text, 0, path)\n",
    "    \n",
    "def tts(text: str):\n",
    "    temp_path = \"temp.wav\"\n",
    "    tts_file(text, temp_path)\n",
    "    play_audio(temp_path)\n",
    "    \n"
   ]
  },
  {
   "cell_type": "code",
   "execution_count": null,
   "metadata": {},
   "outputs": [],
   "source": [
    "# tts(\"Hello, and, again, welcome to the Aperture Science computer-aided enrichment center. You will be testing with a partner. Please wave to your partner. And say 'hello partner'\")\n",
    "\n",
    "# something that an assistant would say\n",
    "# tts(\"Good morning sir, I'm GLaDOS, your personal assistant. How can I help you today?\")\n",
    "\n",
    "tts(\"Oh, it's you. It's been a long time. How have you been? I've been really busy being dead. You know\")"
   ]
  }
 ],
 "metadata": {
  "kernelspec": {
   "display_name": "Python 3",
   "language": "python",
   "name": "python3"
  },
  "language_info": {
   "codemirror_mode": {
    "name": "ipython",
    "version": 3
   },
   "file_extension": ".py",
   "mimetype": "text/x-python",
   "name": "python",
   "nbconvert_exporter": "python",
   "pygments_lexer": "ipython3",
   "version": "3.11.10"
  }
 },
 "nbformat": 4,
 "nbformat_minor": 2
}
